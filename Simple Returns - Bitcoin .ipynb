{
 "cells": [
  {
   "cell_type": "code",
   "execution_count": 39,
   "metadata": {
    "collapsed": false
   },
   "outputs": [],
   "source": [
    "%matplotlib inline\n",
    "\n",
    "import numpy as np\n",
    "from datetime import datetime, timedelta\n",
    "from pandas.io.data import DataReader\n",
    "from pandas.io.parsers import read_csv\n",
    "import matplotlib.pyplot as plt\n",
    "\n",
    "PAST_DAYS = 365\n",
    "t1 = datetime.now()\n",
    "# one year later\n",
    "t2 = t1 - timedelta(days=PAST_DAYS)"
   ]
  },
  {
   "cell_type": "code",
   "execution_count": 31,
   "metadata": {
    "collapsed": false
   },
   "outputs": [],
   "source": [
    "BITCON_URL = 'http://www.quandl.com/api/v1/datasets/BCHARTS/COINBASEUSD.csv'"
   ]
  },
  {
   "cell_type": "code",
   "execution_count": 32,
   "metadata": {
    "collapsed": false,
    "scrolled": true
   },
   "outputs": [
    {
     "name": "stdout",
     "output_type": "stream",
     "text": [
      "755\n"
     ]
    }
   ],
   "source": [
    "bcdf = read_csv(BITCON_URL)[::-1]\n",
    "print len(bcdf)\n",
    "bcdf = bcdf[bcdf['Date']> t2.strftime(\"%Y-%m-%d\")]"
   ]
  },
  {
   "cell_type": "code",
   "execution_count": 33,
   "metadata": {
    "collapsed": false
   },
   "outputs": [
    {
     "data": {
      "text/html": [
       "<div>\n",
       "<table border=\"1\" class=\"dataframe\">\n",
       "  <thead>\n",
       "    <tr style=\"text-align: right;\">\n",
       "      <th></th>\n",
       "      <th>Date</th>\n",
       "      <th>Open</th>\n",
       "      <th>High</th>\n",
       "      <th>Low</th>\n",
       "      <th>Close</th>\n",
       "      <th>Volume (BTC)</th>\n",
       "      <th>Volume (Currency)</th>\n",
       "      <th>Weighted Price</th>\n",
       "    </tr>\n",
       "  </thead>\n",
       "  <tbody>\n",
       "    <tr>\n",
       "      <th>240</th>\n",
       "      <td>2016-10-05</td>\n",
       "      <td>610.33</td>\n",
       "      <td>614.24</td>\n",
       "      <td>609.22</td>\n",
       "      <td>613.16</td>\n",
       "      <td>4454.403695</td>\n",
       "      <td>2.726213e+06</td>\n",
       "      <td>612.026520</td>\n",
       "    </tr>\n",
       "    <tr>\n",
       "      <th>239</th>\n",
       "      <td>2016-10-06</td>\n",
       "      <td>613.16</td>\n",
       "      <td>613.39</td>\n",
       "      <td>610.30</td>\n",
       "      <td>611.88</td>\n",
       "      <td>3920.075316</td>\n",
       "      <td>2.401040e+06</td>\n",
       "      <td>612.498435</td>\n",
       "    </tr>\n",
       "    <tr>\n",
       "      <th>238</th>\n",
       "      <td>2016-10-07</td>\n",
       "      <td>611.78</td>\n",
       "      <td>618.70</td>\n",
       "      <td>609.89</td>\n",
       "      <td>617.98</td>\n",
       "      <td>5119.988900</td>\n",
       "      <td>3.149936e+06</td>\n",
       "      <td>615.223190</td>\n",
       "    </tr>\n",
       "    <tr>\n",
       "      <th>237</th>\n",
       "      <td>2016-10-08</td>\n",
       "      <td>618.11</td>\n",
       "      <td>620.00</td>\n",
       "      <td>617.55</td>\n",
       "      <td>619.50</td>\n",
       "      <td>2793.955354</td>\n",
       "      <td>1.729010e+06</td>\n",
       "      <td>618.839671</td>\n",
       "    </tr>\n",
       "    <tr>\n",
       "      <th>236</th>\n",
       "      <td>2016-10-09</td>\n",
       "      <td>619.46</td>\n",
       "      <td>619.59</td>\n",
       "      <td>617.00</td>\n",
       "      <td>617.42</td>\n",
       "      <td>2329.862077</td>\n",
       "      <td>1.440506e+06</td>\n",
       "      <td>618.279531</td>\n",
       "    </tr>\n",
       "  </tbody>\n",
       "</table>\n",
       "</div>"
      ],
      "text/plain": [
       "           Date    Open    High     Low   Close  Volume (BTC)  \\\n",
       "240  2016-10-05  610.33  614.24  609.22  613.16   4454.403695   \n",
       "239  2016-10-06  613.16  613.39  610.30  611.88   3920.075316   \n",
       "238  2016-10-07  611.78  618.70  609.89  617.98   5119.988900   \n",
       "237  2016-10-08  618.11  620.00  617.55  619.50   2793.955354   \n",
       "236  2016-10-09  619.46  619.59  617.00  617.42   2329.862077   \n",
       "\n",
       "     Volume (Currency)  Weighted Price  \n",
       "240       2.726213e+06      612.026520  \n",
       "239       2.401040e+06      612.498435  \n",
       "238       3.149936e+06      615.223190  \n",
       "237       1.729010e+06      618.839671  \n",
       "236       1.440506e+06      618.279531  "
      ]
     },
     "execution_count": 33,
     "metadata": {},
     "output_type": "execute_result"
    }
   ],
   "source": [
    "bcdf.head()"
   ]
  },
  {
   "cell_type": "code",
   "execution_count": 34,
   "metadata": {
    "collapsed": false,
    "scrolled": true
   },
   "outputs": [
    {
     "data": {
      "text/html": [
       "<div>\n",
       "<table border=\"1\" class=\"dataframe\">\n",
       "  <thead>\n",
       "    <tr style=\"text-align: right;\">\n",
       "      <th></th>\n",
       "      <th>Date</th>\n",
       "      <th>Open</th>\n",
       "      <th>High</th>\n",
       "      <th>Low</th>\n",
       "      <th>Close</th>\n",
       "      <th>Volume (BTC)</th>\n",
       "      <th>Volume (Currency)</th>\n",
       "      <th>Weighted Price</th>\n",
       "    </tr>\n",
       "  </thead>\n",
       "  <tbody>\n",
       "    <tr>\n",
       "      <th>4</th>\n",
       "      <td>2017-09-29</td>\n",
       "      <td>4189.42</td>\n",
       "      <td>4212.99</td>\n",
       "      <td>4015.17</td>\n",
       "      <td>4156.99</td>\n",
       "      <td>10033.657866</td>\n",
       "      <td>4.147286e+07</td>\n",
       "      <td>4133.373957</td>\n",
       "    </tr>\n",
       "    <tr>\n",
       "      <th>3</th>\n",
       "      <td>2017-09-30</td>\n",
       "      <td>4156.99</td>\n",
       "      <td>4356.28</td>\n",
       "      <td>4143.52</td>\n",
       "      <td>4339.00</td>\n",
       "      <td>6138.371044</td>\n",
       "      <td>2.625789e+07</td>\n",
       "      <td>4277.663731</td>\n",
       "    </tr>\n",
       "    <tr>\n",
       "      <th>2</th>\n",
       "      <td>2017-10-01</td>\n",
       "      <td>4339.01</td>\n",
       "      <td>4396.99</td>\n",
       "      <td>4256.92</td>\n",
       "      <td>4394.81</td>\n",
       "      <td>5282.937190</td>\n",
       "      <td>2.282130e+07</td>\n",
       "      <td>4319.813188</td>\n",
       "    </tr>\n",
       "    <tr>\n",
       "      <th>1</th>\n",
       "      <td>2017-10-02</td>\n",
       "      <td>4394.81</td>\n",
       "      <td>4470.00</td>\n",
       "      <td>4354.99</td>\n",
       "      <td>4392.71</td>\n",
       "      <td>8356.639468</td>\n",
       "      <td>3.679041e+07</td>\n",
       "      <td>4402.536107</td>\n",
       "    </tr>\n",
       "    <tr>\n",
       "      <th>0</th>\n",
       "      <td>2017-10-03</td>\n",
       "      <td>4392.71</td>\n",
       "      <td>4419.95</td>\n",
       "      <td>4242.42</td>\n",
       "      <td>4295.00</td>\n",
       "      <td>9585.625515</td>\n",
       "      <td>4.134676e+07</td>\n",
       "      <td>4313.412460</td>\n",
       "    </tr>\n",
       "  </tbody>\n",
       "</table>\n",
       "</div>"
      ],
      "text/plain": [
       "         Date     Open     High      Low    Close  Volume (BTC)  \\\n",
       "4  2017-09-29  4189.42  4212.99  4015.17  4156.99  10033.657866   \n",
       "3  2017-09-30  4156.99  4356.28  4143.52  4339.00   6138.371044   \n",
       "2  2017-10-01  4339.01  4396.99  4256.92  4394.81   5282.937190   \n",
       "1  2017-10-02  4394.81  4470.00  4354.99  4392.71   8356.639468   \n",
       "0  2017-10-03  4392.71  4419.95  4242.42  4295.00   9585.625515   \n",
       "\n",
       "   Volume (Currency)  Weighted Price  \n",
       "4       4.147286e+07     4133.373957  \n",
       "3       2.625789e+07     4277.663731  \n",
       "2       2.282130e+07     4319.813188  \n",
       "1       3.679041e+07     4402.536107  \n",
       "0       4.134676e+07     4313.412460  "
      ]
     },
     "execution_count": 34,
     "metadata": {},
     "output_type": "execute_result"
    }
   ],
   "source": [
    "bcdf.tail()"
   ]
  },
  {
   "cell_type": "code",
   "execution_count": 45,
   "metadata": {
    "collapsed": false
   },
   "outputs": [
    {
     "data": {
      "text/plain": [
       "[<matplotlib.lines.Line2D at 0xaaab4b0>]"
      ]
     },
     "execution_count": 45,
     "metadata": {},
     "output_type": "execute_result"
    },
    {
     "data": {
      "image/png": "[encoded data removed]",
      "text/plain": [
       "<matplotlib.figure.Figure at 0xa7ae3d0>"
      ]
     },
     "metadata": {},
     "output_type": "display_data"
    }
   ],
   "source": [
    "plt.title(\"BitCoin\")\n",
    "plt.xlabel('days')\n",
    "plt.ylabel('close val.(USD)')\n",
    "\n",
    "plt.gca().invert_xaxis()\n",
    "plt.plot(bcdf['Close'])"
   ]
  },
  {
   "cell_type": "markdown",
   "metadata": {
    "collapsed": true
   },
   "source": [
    "## Simple Rate of Return"
   ]
  },
  {
   "cell_type": "markdown",
   "metadata": {},
   "source": [
    "$$\n",
    "\\frac{P_1 - P_0}{P_0} = \\frac{P_1}{P_0} - 1\n",
    "$$"
   ]
  },
  {
   "cell_type": "code",
   "execution_count": 171,
   "metadata": {
    "collapsed": false
   },
   "outputs": [
    {
     "name": "stdout",
     "output_type": "stream",
     "text": [
      "240         NaN\n",
      "239   -0.002088\n",
      "238    0.009969\n",
      "237    0.002460\n",
      "236   -0.003358\n",
      "235    0.002106\n",
      "234    0.037820\n",
      "233   -0.009858\n",
      "232   -0.000204\n",
      "231    0.003728\n",
      "230    0.000204\n",
      "229    0.005892\n",
      "228   -0.003676\n",
      "227   -0.006958\n",
      "226   -0.008377\n",
      "225   -0.002763\n",
      "224    0.004426\n",
      "223    0.034748\n",
      "222   -0.002620\n",
      "221   -0.001628\n",
      "220    0.006646\n",
      "219    0.030109\n",
      "218    0.025534\n",
      "217   -0.001823\n",
      "216    0.035263\n",
      "215   -0.023618\n",
      "214   -0.000731\n",
      "213    0.048501\n",
      "212    0.019023\n",
      "211   -0.073328\n",
      "         ...   \n",
      "29    -0.027626\n",
      "28    -0.014615\n",
      "27     0.041437\n",
      "26     0.001733\n",
      "25    -0.059293\n",
      "24    -0.003595\n",
      "23    -0.019149\n",
      "22    -0.009559\n",
      "21    -0.010972\n",
      "20    -0.074246\n",
      "19    -0.156905\n",
      "18     0.150634\n",
      "17    -0.003612\n",
      "16    -0.001755\n",
      "15     0.102159\n",
      "14    -0.046315\n",
      "13    -0.009731\n",
      "12    -0.065751\n",
      "11     0.000426\n",
      "10     0.046510\n",
      "9     -0.031241\n",
      "8      0.068348\n",
      "7     -0.008850\n",
      "6      0.081056\n",
      "5     -0.002519\n",
      "4     -0.007741\n",
      "3      0.043784\n",
      "2      0.012862\n",
      "1     -0.000478\n",
      "0     -0.022244\n",
      "Name: simple_return, dtype: float64\n"
     ]
    }
   ],
   "source": [
    "bcdf['simple_return'] = (bcdf['Close'] / bcdf['Close'].shift(1)) - 1\n",
    "print bcdf['simple_return']"
   ]
  },
  {
   "cell_type": "code",
   "execution_count": 172,
   "metadata": {
    "collapsed": false
   },
   "outputs": [
    {
     "name": "stdout",
     "output_type": "stream",
     "text": [
      "240         NaN\n",
      "239   -0.002088\n",
      "238    0.009969\n",
      "237    0.002460\n",
      "236   -0.003358\n",
      "235    0.002106\n",
      "234    0.037820\n",
      "233   -0.009858\n",
      "232   -0.000204\n",
      "231    0.003728\n",
      "230    0.000204\n",
      "229    0.005892\n",
      "228   -0.003676\n",
      "227   -0.006958\n",
      "226   -0.008377\n",
      "225   -0.002763\n",
      "224    0.004426\n",
      "223    0.034748\n",
      "222   -0.002620\n",
      "221   -0.001628\n",
      "220    0.006646\n",
      "219    0.030109\n",
      "218    0.025534\n",
      "217   -0.001823\n",
      "216    0.035263\n",
      "215   -0.023618\n",
      "214   -0.000731\n",
      "213    0.048501\n",
      "212    0.019023\n",
      "211   -0.073328\n",
      "         ...   \n",
      "29    -0.027626\n",
      "28    -0.014615\n",
      "27     0.041437\n",
      "26     0.001733\n",
      "25    -0.059293\n",
      "24    -0.003595\n",
      "23    -0.019149\n",
      "22    -0.009559\n",
      "21    -0.010972\n",
      "20    -0.074246\n",
      "19    -0.156905\n",
      "18     0.150634\n",
      "17    -0.003612\n",
      "16    -0.001755\n",
      "15     0.102159\n",
      "14    -0.046315\n",
      "13    -0.009731\n",
      "12    -0.065751\n",
      "11     0.000426\n",
      "10     0.046510\n",
      "9     -0.031241\n",
      "8      0.068348\n",
      "7     -0.008850\n",
      "6      0.081056\n",
      "5     -0.002519\n",
      "4     -0.007741\n",
      "3      0.043784\n",
      "2      0.012862\n",
      "1     -0.000478\n",
      "0     -0.022244\n",
      "Name: simple_return, dtype: float64\n"
     ]
    }
   ],
   "source": [
    "print bcdf['simple_return']"
   ]
  },
  {
   "cell_type": "code",
   "execution_count": 173,
   "metadata": {
    "collapsed": false
   },
   "outputs": [
    {
     "data": {
      "image/png": "[encoded data removed]",
      "text/plain": [
       "<matplotlib.figure.Figure at 0xaacbcd0>"
      ]
     },
     "metadata": {},
     "output_type": "display_data"
    }
   ],
   "source": [
    "bcdf['simple_return'].plot(figsize=(8, 5))\n",
    "plt.show()"
   ]
  },
  {
   "cell_type": "code",
   "execution_count": 179,
   "metadata": {
    "collapsed": false
   },
   "outputs": [
    {
     "data": {
      "text/plain": [
       "0.009578778913252399"
      ]
     },
     "execution_count": 179,
     "metadata": {},
     "output_type": "execute_result"
    }
   ],
   "source": [
    "avg_returns_d = bcdf['simple_return'].mean()\n",
    "avg_returns_d"
   ]
  },
  {
   "cell_type": "code",
   "execution_count": 177,
   "metadata": {
    "collapsed": false
   },
   "outputs": [
    {
     "data": {
      "text/plain": [
       "3.4962543033371256"
      ]
     },
     "execution_count": 177,
     "metadata": {},
     "output_type": "execute_result"
    }
   ],
   "source": [
    "avg_returns_a = bcdf['simple_return'].mean() * 365\n",
    "avg_returns_a"
   ]
  },
  {
   "cell_type": "code",
   "execution_count": 178,
   "metadata": {
    "collapsed": false
   },
   "outputs": [
    {
     "name": "stdout",
     "output_type": "stream",
     "text": [
      "349.625 %\n"
     ]
    }
   ],
   "source": [
    "print str(round(avg_returns_a, 5) * 100) + ' %'"
   ]
  }
 ],
 "metadata": {
  "kernelspec": {
   "display_name": "Python 2",
   "language": "python",
   "name": "python2"
  },
  "language_info": {
   "codemirror_mode": {
    "name": "ipython",
    "version": 2
   },
   "file_extension": ".py",
   "mimetype": "text/x-python",
   "name": "python",
   "nbconvert_exporter": "python",
   "pygments_lexer": "ipython2",
   "version": "2.7.13"
  }
 },
 "nbformat": 4,
 "nbformat_minor": 2
}
